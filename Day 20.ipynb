{
 "cells": [
  {
   "cell_type": "code",
   "execution_count": 4,
   "id": "a15da5f0",
   "metadata": {},
   "outputs": [
    {
     "name": "stdout",
     "output_type": "stream",
     "text": [
      "Diary Unlocked! \n",
      "Wrong password! \n"
     ]
    }
   ],
   "source": [
    "#  2. Secret Diary Lock (Password Hashing)\n",
    "# Story:\n",
    "# You write in your diary and lock it with a password. But you don’t want to write the real password on the lock—it’s unsafe.\n",
    "# Problem: How do you store the lock's code without exposing your real password?\n",
    "# Solution using Hashing:\n",
    "# You hash the password like this:\n",
    "# •\tReal password: \"sunshine123\"\n",
    "# •\tHashed: \"5ae9f8abc...\"\n",
    "# When you enter your password next time, the diary hashes it again and compares the hashed version.\n",
    "# ➡ Real use: This is how websites store your passwords safely without knowing your actual password.\n",
    "\n",
    "\n",
    "\n",
    "class secretdiary:\n",
    "    def __init__(self, password):\n",
    "        self.hashed_password = self.fake_hash(password)\n",
    "\n",
    "    def fake_hash(self, text):\n",
    "        return sum((i + 1) * len(c) for i, c in enumerate(text))\n",
    "\n",
    "    def unlock(self, attempt):\n",
    "        if self.fake_hash(attempt) == self.hashed_password:\n",
    "            print(\"Diary Unlocked! \")\n",
    "        else:\n",
    "            print(\"Wrong password! \")\n",
    "\n",
    "diary = secretdiary(\"sunshine123\")\n",
    "diary.unlock(\"sunshine123\") \n",
    "diary.unlock(\"sunshine\")"
   ]
  },
  {
   "cell_type": "code",
   "execution_count": 1,
   "id": "d7e82395",
   "metadata": {},
   "outputs": [
    {
     "name": "stdout",
     "output_type": "stream",
     "text": [
      "Ravi is Absent\n",
      "Priya not found in class list.\n"
     ]
    }
   ],
   "source": [
    "#  3. Classroom Roll Call (Fast Name Search)\n",
    "# Story:\n",
    "# You’re a class teacher calling out names for attendance. You have 100+ students.\n",
    "# Problem: Searching a name from a long list takes time.\n",
    "# Solution using Hashing:\n",
    "# You create a dictionary (hash map):\n",
    "# attendance = {\"Anu\": \"Present\", \"Ravi\": \"Absent\", \"Meena\": \"Present\"}\n",
    "# Now, to check Ravi’s status, just use:\n",
    "# attendance[\"Ravi\"]\n",
    "# Fast, direct lookup.\n",
    "# ➡ Real use: Used in databases, apps, and websites to quickly find and display user data.\n",
    "\n",
    "\n",
    "class classroom:\n",
    "    def __init__(self):\n",
    "        self.present = {}\n",
    "\n",
    "    def attendance(self, name, status):\n",
    "        self.present[name] = status\n",
    "\n",
    "    def check(self, name):\n",
    "        if name in self.present:\n",
    "            print(f\"{name} is {self.present[name]}\")\n",
    "        else:\n",
    "            print(f\"{name} not found in class list.\")\n",
    "\n",
    "roll = classroom()\n",
    "roll.attendance(\"Anu\", \"Present\")\n",
    "roll.attendance(\"Ravi\", \"Absent\")\n",
    "roll.attendance(\"Meena\", \"Present\")\n",
    "\n",
    "roll.check(\"Ravi\")\n",
    "roll.check(\"Priya\")"
   ]
  },
  {
   "cell_type": "code",
   "execution_count": 5,
   "id": "b02a8256",
   "metadata": {},
   "outputs": [
    {
     "name": "stdout",
     "output_type": "stream",
     "text": [
      "Not found. Adding to the box.\n",
      "Not found. Adding to the box.\n",
      "Yes! Found it!\n",
      "Not found. Adding to the box.\n"
     ]
    }
   ],
   "source": [
    "# Assignment 3 - 4/8/2025\n",
    "\n",
    "\n",
    "#  1. The Lost and Found Box (Duplicate Item Detection)\n",
    "# Story:\n",
    "# You’re in charge of a Lost & Found box in your college. Every time someone reports a lost item, you check if it’s already in the box.\n",
    "# Problem: How do you avoid checking every item one by one (which is slow)?\n",
    "# Solution using Hashing:\n",
    "# You keep a set (hash table) of item names like {\"watch\", \"pen\", \"bottle\"}.\n",
    "# Every time someone reports a new item, you check the hash table:\n",
    "# •\tIf it's there: \"Yes! Found it!\"\n",
    "# •\tIf not: Add to the set and store the item.\n",
    "# ➡ Real use: This is how computers check for duplicate files, logins, or data super fast.\n",
    "\n",
    "\n",
    "\n",
    "\n",
    "class lost_item:\n",
    "    def __init__(self):\n",
    "        self.hash_table = {}\n",
    "\n",
    "    def report(self, item):\n",
    "        key = hash(item) \n",
    "\n",
    "        if key in self.hash_table:\n",
    "            print(\"Yes! Found it!\")\n",
    "        else:\n",
    "            print(\"Not found. Adding to the box.\")\n",
    "            self.hash_table[key] = item\n",
    "\n",
    "box = lost_item()\n",
    "box.report(\"pen\")\n",
    "box.report(\"bottle\")\n",
    "box.report(\"pen\")  \n",
    "box.report(\"watch\")\n"
   ]
  },
  {
   "cell_type": "code",
   "execution_count": 3,
   "id": "e67f9d02",
   "metadata": {},
   "outputs": [
    {
     "name": "stdout",
     "output_type": "stream",
     "text": [
      "Assigned 9876543210 to Driver C\n",
      "Assigned 9123456789 to Driver A\n",
      "Assigned 9000011111 to Driver C\n",
      "Assigned 8123456789 to Driver A\n",
      "Assigned 7012345678 to Driver A\n",
      "Driver A: ['9123456789', '8123456789', '7012345678']\n",
      "Driver B: []\n",
      "Driver C: ['9876543210', '9000011111']\n"
     ]
    }
   ],
   "source": [
    "# 4. Food Delivery Routing (Load Balancing)\n",
    "# Story:\n",
    "# You work for a food delivery app. You want to assign delivery requests evenly to drivers.\n",
    "# Problem: If you assign them manually, one driver gets too many, others get none.\n",
    "# Solution using Hashing:\n",
    "# You hash the customer's phone number or address, and based on the result, assign it to Driver A, B, or C.\n",
    "# ➡ Real use: Used in big companies (like Swiggy, Zomato) to divide traffic across servers or drivers fairly.\n",
    "\n",
    "\n",
    "\n",
    "\n",
    "\n",
    "class delivery:\n",
    "    def __init__(self):\n",
    "        self.drivers = {'A': [], 'B': [], 'C': []}\n",
    "\n",
    "    def driver(self, number):\n",
    "        driver_id = self.hash_to_driver(number)\n",
    "        self.drivers[driver_id].append(number)\n",
    "        print(f\"Assigned {number} to Driver {driver_id}\")\n",
    "\n",
    "    def hash_to_driver(self, phone_number):\n",
    "        h = hash(phone_number)\n",
    "        index = h % 3\n",
    "        return ['A', 'B', 'C'][index]\n",
    "\n",
    "    def assignments(self):\n",
    "        for driver, customers in self.drivers.items():\n",
    "            print(f\"Driver {driver}: {customers}\")\n",
    "\n",
    "d = delivery()\n",
    "d.driver(\"9876543210\")\n",
    "d.driver(\"9123456789\")\n",
    "d.driver(\"9000011111\")\n",
    "d.driver(\"8123456789\")\n",
    "d.driver(\"7012345678\")\n",
    "\n",
    "d.assignments()\n"
   ]
  },
  {
   "cell_type": "code",
   "execution_count": 2,
   "id": "c5be31e0",
   "metadata": {},
   "outputs": [
    {
     "name": "stdout",
     "output_type": "stream",
     "text": [
      "Possible Plagiarism Detected\n",
      "Essays appear different.\n"
     ]
    }
   ],
   "source": [
    "# 5. Same Essay? (Plagiarism Detection)\n",
    "# Story:\n",
    "# You’re checking student essays. You suspect two students copied each other.\n",
    "# Problem: Reading both essays manually is slow and boring.\n",
    "# Solution using Hashing:\n",
    "# You convert each essay into a hash value. If the hash is same → The content is likely same.\n",
    "# ➡ Real use: Used by apps like Turnitin or Google Docs to check copy-paste content.\n",
    "\n",
    "\n",
    "class essaychecker:\n",
    "    def __init__(self):\n",
    "        pass\n",
    "\n",
    "    def hash_essay(self, text):\n",
    "        words = text.lower().split()\n",
    "        return sum(len(word) for word in words) + len(set(words))\n",
    "\n",
    "    def similarity(self, essay1, essay2):\n",
    "        hash1 = self.hash_essay(essay1)\n",
    "        hash2 = self.hash_essay(essay2)\n",
    "\n",
    "        if hash1 == hash2:\n",
    "            print(\"Possible Plagiarism Detected\")\n",
    "        else:\n",
    "            print(\"Essays appear different.\")\n",
    "checker = essaychecker()\n",
    "\n",
    "essay_a = \"AI is transforming the future of education.\"\n",
    "essay_b = \"AI is transforming the future of education.\"\n",
    "essay_c = \"Education will be transformed by AI in the coming years.\"\n",
    "\n",
    "checker.similarity(essay_a, essay_b)\n",
    "checker.similarity(essay_a, essay_c)"
   ]
  },
  {
   "cell_type": "code",
   "execution_count": null,
   "id": "fec76105",
   "metadata": {},
   "outputs": [],
   "source": [
    "# #stack methods \n",
    "\n",
    "\n",
    "# push -  add the elements into the stack \n",
    "# pop  -  remove the elements from te stack\n",
    "# top or peek - it returns Top of the element (last element) from the stack\n",
    "# isempty - checks whether the stack is empty or not\n",
    "# size - The size of the stack"
   ]
  },
  {
   "cell_type": "code",
   "execution_count": null,
   "id": "9785f6a4",
   "metadata": {},
   "outputs": [],
   "source": [
    "class stack():\n",
    "    def __init__(self):\n",
    "        self.stack = []\n",
    "    def push(self,elemet):\n",
    "        self.stack.append(elements)\n"
   ]
  }
 ],
 "metadata": {
  "kernelspec": {
   "display_name": "Python 3",
   "language": "python",
   "name": "python3"
  },
  "language_info": {
   "codemirror_mode": {
    "name": "ipython",
    "version": 3
   },
   "file_extension": ".py",
   "mimetype": "text/x-python",
   "name": "python",
   "nbconvert_exporter": "python",
   "pygments_lexer": "ipython3",
   "version": "3.13.5"
  }
 },
 "nbformat": 4,
 "nbformat_minor": 5
}
