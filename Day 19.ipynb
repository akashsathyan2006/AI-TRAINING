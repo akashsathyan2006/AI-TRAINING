{
 "cells": [
  {
   "cell_type": "code",
   "execution_count": 7,
   "id": "ee97670c",
   "metadata": {},
   "outputs": [
    {
     "name": "stdout",
     "output_type": "stream",
     "text": [
      "Hello\n"
     ]
    }
   ],
   "source": [
    "# Assignment 2 - 3/8/2025\n",
    "\n",
    "# 1. Stitch the Broken Words\n",
    "# You're building a typing assistant. Users often type in fragments of a word separately, and your system must stitch them together to form a full word.\n",
    "# Your Task:\n",
    "# Create a class WordBuilder that accepts a list of fragments and stitches them into a single word using join().\n",
    "# Concepts: String list operations, join, basic class method.\n",
    "\n",
    "\n",
    "class WordBuilder:\n",
    "    def __init__(self, fragments):\n",
    "        self.fragments = fragments\n",
    "\n",
    "    def build(self):\n",
    "        return ''.join(self.fragments)       # The '' is used to join the fragments without any space between them.\n",
    "\n",
    "\n",
    "w = WordBuilder([\"H\", \"e\", \"l\", \"l\", \"o\"])\n",
    "print(w.build())"
   ]
  },
  {
   "cell_type": "code",
   "execution_count": 8,
   "id": "1f68a71a",
   "metadata": {},
   "outputs": [
    {
     "name": "stdout",
     "output_type": "stream",
     "text": [
      "True\n"
     ]
    }
   ],
   "source": [
    "# 2. Spy Code Finder\n",
    "# A game hides special words like \"spy\", \"code\", or \"agent\" inside long random-looking messages. Players must find if any of these words are present.\n",
    "# Your Task:\n",
    "# Create a class SpyChecker with a method has_code() that checks if any of the secret keywords are present in a given message.\n",
    "# Concepts: Substring checking with in, conditionals, lists.\n",
    "\n",
    "\n",
    "\n",
    "class SpyChecker:\n",
    "    keywords = [\"spy\", \"code\", \"agent\"]\n",
    "    def _init_(self):\n",
    "        pass\n",
    "    def has_code(self, message):\n",
    "        for i in self.keywords:  \n",
    "            if i in message:\n",
    "                return True\n",
    "        return False\n",
    "\n",
    "spy_checker = SpyChecker()\n",
    "print(spy_checker.has_code(\"The secret code is 1234\"))"
   ]
  },
  {
   "cell_type": "code",
   "execution_count": 14,
   "id": "910f898e",
   "metadata": {},
   "outputs": [
    {
     "ename": "AttributeError",
     "evalue": "'Booth' object has no attribute 'sales'",
     "output_type": "error",
     "traceback": [
      "\u001b[31m---------------------------------------------------------------------------\u001b[39m",
      "\u001b[31mAttributeError\u001b[39m                            Traceback (most recent call last)",
      "\u001b[36mCell\u001b[39m\u001b[36m \u001b[39m\u001b[32mIn[14]\u001b[39m\u001b[32m, line 26\u001b[39m\n\u001b[32m     23\u001b[39m     \u001b[38;5;28;01mdef\u001b[39;00m\u001b[38;5;250m \u001b[39m\u001b[34mreport\u001b[39m(\u001b[38;5;28mself\u001b[39m): \u001b[38;5;28mprint\u001b[39m(\u001b[33mf\u001b[39m\u001b[33m\"\u001b[39m\u001b[33mTotal Sales: ₹\u001b[39m\u001b[38;5;132;01m{\u001b[39;00m\u001b[38;5;28mself\u001b[39m.sales\u001b[38;5;132;01m}\u001b[39;00m\u001b[33m\"\u001b[39m)\n\u001b[32m     25\u001b[39m b = Booth()\n\u001b[32m---> \u001b[39m\u001b[32m26\u001b[39m \u001b[43mb\u001b[49m\u001b[43m.\u001b[49m\u001b[43mbuy\u001b[49m\u001b[43m(\u001b[49m\u001b[43m[\u001b[49m\u001b[32;43m100\u001b[39;49m\u001b[43m,\u001b[49m\u001b[43m \u001b[49m\u001b[32;43m50\u001b[39;49m\u001b[43m]\u001b[49m\u001b[43m)\u001b[49m         \n\u001b[32m     27\u001b[39m b.buy([\u001b[32m100\u001b[39m, \u001b[32m100\u001b[39m, \u001b[32m50\u001b[39m])\n\u001b[32m     28\u001b[39m b.report()\u001b[38;5;66;03m#  3. \"The Festival Ticket Booth\"\u001b[39;00m\n",
      "\u001b[36mCell\u001b[39m\u001b[36m \u001b[39m\u001b[32mIn[14]\u001b[39m\u001b[32m, line 21\u001b[39m, in \u001b[36mBooth.buy\u001b[39m\u001b[34m(self, prices)\u001b[39m\n\u001b[32m     19\u001b[39m total = \u001b[38;5;28msum\u001b[39m(prices)\n\u001b[32m     20\u001b[39m \u001b[38;5;28;01mif\u001b[39;00m \u001b[38;5;28mlen\u001b[39m(prices) >= \u001b[32m3\u001b[39m: total *= \u001b[32m0.9\u001b[39m \n\u001b[32m---> \u001b[39m\u001b[32m21\u001b[39m \u001b[38;5;28;43mself\u001b[39;49m\u001b[43m.\u001b[49m\u001b[43msales\u001b[49m += total\n\u001b[32m     22\u001b[39m \u001b[38;5;28mprint\u001b[39m(\u001b[33mf\u001b[39m\u001b[33m\"\u001b[39m\u001b[33mTotal: ₹\u001b[39m\u001b[38;5;132;01m{\u001b[39;00mtotal\u001b[38;5;132;01m}\u001b[39;00m\u001b[33m\"\u001b[39m)\n",
      "\u001b[31mAttributeError\u001b[39m: 'Booth' object has no attribute 'sales'"
     ]
    }
   ],
   "source": [
    "#  3. \"The Festival Ticket Booth\"\n",
    "# At a city fest, visitors buy entry tickets. Children, adults, and seniors have different ticket prices. You also need to generate a receipt and count total sales.\n",
    "# Your Task:\n",
    "# Write classes for different ticket types and handle a queue of customers. Apply discounts for family bookings (3 or more members).\n",
    "# •\t Concepts: Polymorphism, total cost, discounts.\n",
    "\n",
    "\n",
    "\n",
    "\n",
    "\n",
    "class Ticket:\n",
    "    def _init_(self, price):\n",
    "        self.price = price\n",
    "\n",
    "class Booth:\n",
    "    def _init_(self): \n",
    "        self.sales = 0\n",
    "    def buy(self, prices):\n",
    "        total = sum(prices)\n",
    "        if len(prices) >= 3: total *= 0.9 \n",
    "        self.sales += total\n",
    "        print(f\"Total: ₹{total}\")\n",
    "    def report(self): print(f\"Total Sales: ₹{self.sales}\")\n",
    "\n",
    "b = Booth()\n",
    "b.buy([100, 50])         \n",
    "b.buy([100, 100, 50])\n",
    "b.report()#  3. \"The Festival Ticket Booth\"\n",
    "# At a city fest, visitors buy entry tickets. Children, adults, and seniors have different ticket prices. You also need to generate a receipt and count total sales.\n",
    "# Your Task:\n",
    "# Write classes for different ticket types and handle a queue of customers. Apply discounts for family bookings (3 or more members).\n",
    "# •\t Concepts: Polymorphism, total cost, discounts.\n",
    "\n",
    "\n",
    "\n",
    "\n",
    "\n",
    "class Ticket:\n",
    "    def _init_(self, price):\n",
    "        self.price = price\n",
    "\n",
    "class Booth:\n",
    "    def _init_(self): \n",
    "        self.sales = 0\n",
    "    def buy(self, prices):\n",
    "        total = sum(prices)\n",
    "        if len(prices) >= 3: total *= 0.9 \n",
    "        self.sales += total\n",
    "        print(f\"Total: ₹{total}\")\n",
    "    def report(self): print(f\"Total Sales: ₹{self.sales}\")\n",
    "\n",
    "b = Booth()\n",
    "b.buy([100, 50])         \n",
    "b.buy([100, 100, 50])\n",
    "b.report()"
   ]
  },
  {
   "cell_type": "code",
   "execution_count": null,
   "id": "62dba212",
   "metadata": {
    "vscode": {
     "languageId": "powershell"
    }
   },
   "outputs": [
    {
     "name": "stdout",
     "output_type": "stream",
     "text": [
      "Collecting matplotlib\n",
      "  Downloading matplotlib-3.10.5-cp313-cp313-win_amd64.whl.metadata (11 kB)\n",
      "Collecting contourpy>=1.0.1 (from matplotlib)\n",
      "  Downloading contourpy-1.3.3-cp313-cp313-win_amd64.whl.metadata (5.5 kB)\n",
      "Collecting cycler>=0.10 (from matplotlib)\n",
      "  Downloading cycler-0.12.1-py3-none-any.whl.metadata (3.8 kB)\n",
      "Collecting fonttools>=4.22.0 (from matplotlib)\n",
      "  Downloading fonttools-4.59.0-cp313-cp313-win_amd64.whl.metadata (110 kB)\n",
      "Collecting kiwisolver>=1.3.1 (from matplotlib)\n",
      "  Downloading kiwisolver-1.4.8-cp313-cp313-win_amd64.whl.metadata (6.3 kB)\n",
      "Requirement already satisfied: numpy>=1.23 in c:\\users\\amnrn\\appdata\\local\\programs\\python\\python313\\lib\\site-packages (from matplotlib) (2.3.2)\n",
      "Requirement already satisfied: packaging>=20.0 in c:\\users\\amnrn\\appdata\\roaming\\python\\python313\\site-packages (from matplotlib) (25.0)\n",
      "Collecting pillow>=8 (from matplotlib)\n",
      "  Downloading pillow-11.3.0-cp313-cp313-win_amd64.whl.metadata (9.2 kB)\n",
      "Collecting pyparsing>=2.3.1 (from matplotlib)\n",
      "  Downloading pyparsing-3.2.3-py3-none-any.whl.metadata (5.0 kB)\n",
      "Requirement already satisfied: python-dateutil>=2.7 in c:\\users\\amnrn\\appdata\\roaming\\python\\python313\\site-packages (from matplotlib) (2.9.0.post0)\n",
      "Requirement already satisfied: six>=1.5 in c:\\users\\amnrn\\appdata\\roaming\\python\\python313\\site-packages (from python-dateutil>=2.7->matplotlib) (1.17.0)\n",
      "Downloading matplotlib-3.10.5-cp313-cp313-win_amd64.whl (8.1 MB)\n",
      "   ---------------------------------------- 0.0/8.1 MB ? eta -:--:--\n",
      "   --- ------------------------------------ 0.8/8.1 MB 10.5 MB/s eta 0:00:01\n",
      "   ---------- ----------------------------- 2.1/8.1 MB 5.9 MB/s eta 0:00:02\n",
      "   --------------- ------------------------ 3.1/8.1 MB 5.8 MB/s eta 0:00:01\n",
      "   --------------------- ------------------ 4.5/8.1 MB 5.6 MB/s eta 0:00:01\n",
      "   --------------------------- ------------ 5.5/8.1 MB 5.6 MB/s eta 0:00:01\n",
      "   ------------------------------- -------- 6.3/8.1 MB 5.3 MB/s eta 0:00:01\n",
      "   ------------------------------------ --- 7.3/8.1 MB 5.1 MB/s eta 0:00:01\n",
      "   ---------------------------------------- 8.1/8.1 MB 5.0 MB/s eta 0:00:00\n",
      "Downloading contourpy-1.3.3-cp313-cp313-win_amd64.whl (226 kB)\n",
      "Downloading cycler-0.12.1-py3-none-any.whl (8.3 kB)\n",
      "Downloading fonttools-4.59.0-cp313-cp313-win_amd64.whl (2.2 MB)\n",
      "   ---------------------------------------- 0.0/2.2 MB ? eta -:--:--\n",
      "   --------- ------------------------------ 0.5/2.2 MB 2.2 MB/s eta 0:00:01\n",
      "   ------------------ --------------------- 1.0/2.2 MB 2.3 MB/s eta 0:00:01\n",
      "   --------------------------- ------------ 1.6/2.2 MB 2.5 MB/s eta 0:00:01\n",
      "   ------------------------------------- -- 2.1/2.2 MB 2.5 MB/s eta 0:00:01\n",
      "   ---------------------------------------- 2.2/2.2 MB 2.5 MB/s eta 0:00:00\n",
      "Downloading kiwisolver-1.4.8-cp313-cp313-win_amd64.whl (71 kB)\n",
      "Downloading pillow-11.3.0-cp313-cp313-win_amd64.whl (7.0 MB)\n",
      "   ---------------------------------------- 0.0/7.0 MB ? eta -:--:--\n",
      "   - -------------------------------------- 0.3/7.0 MB ? eta -:--:--\n",
      "   ---- ----------------------------------- 0.8/7.0 MB 2.1 MB/s eta 0:00:03\n",
      "   ------- -------------------------------- 1.3/7.0 MB 2.3 MB/s eta 0:00:03\n",
      "   ---------- ----------------------------- 1.8/7.0 MB 2.4 MB/s eta 0:00:03\n",
      "   --------------- ------------------------ 2.6/7.0 MB 2.7 MB/s eta 0:00:02\n",
      "   ------------------- -------------------- 3.4/7.0 MB 2.8 MB/s eta 0:00:02\n",
      "   ------------------------ --------------- 4.2/7.0 MB 3.0 MB/s eta 0:00:01\n",
      "   ---------------------------- ----------- 5.0/7.0 MB 3.1 MB/s eta 0:00:01\n",
      "   ---------------------------------- ----- 6.0/7.0 MB 3.3 MB/s eta 0:00:01\n",
      "   ---------------------------------------- 7.0/7.0 MB 3.4 MB/s eta 0:00:00\n",
      "Downloading pyparsing-3.2.3-py3-none-any.whl (111 kB)\n",
      "Installing collected packages: pyparsing, pillow, kiwisolver, fonttools, cycler, contourpy, matplotlib\n",
      "\n",
      "   ---------------------------------------- 0/7 [pyparsing]\n",
      "   ---------------------------------------- 0/7 [pyparsing]\n",
      "   ----- ---------------------------------- 1/7 [pillow]\n",
      "   ----- ---------------------------------- 1/7 [pillow]\n",
      "   ----- ---------------------------------- 1/7 [pillow]\n",
      "   ----- ---------------------------------- 1/7 [pillow]\n",
      "   ----- ---------------------------------- 1/7 [pillow]\n",
      "   ----- ---------------------------------- 1/7 [pillow]\n",
      "   ----- ---------------------------------- 1/7 [pillow]\n",
      "   ----- ---------------------------------- 1/7 [pillow]\n",
      "   ----- ---------------------------------- 1/7 [pillow]\n",
      "   ----- ---------------------------------- 1/7 [pillow]\n",
      "   ----- ---------------------------------- 1/7 [pillow]\n",
      "   ----- ---------------------------------- 1/7 [pillow]\n",
      "   ----- ---------------------------------- 1/7 [pillow]\n",
      "   ----- ---------------------------------- 1/7 [pillow]\n",
      "   ----- ---------------------------------- 1/7 [pillow]\n",
      "   ----- ---------------------------------- 1/7 [pillow]\n",
      "   ----- ---------------------------------- 1/7 [pillow]\n",
      "   ----- ---------------------------------- 1/7 [pillow]\n",
      "   ----- ---------------------------------- 1/7 [pillow]\n",
      "   ----- ---------------------------------- 1/7 [pillow]\n",
      "   ----- ---------------------------------- 1/7 [pillow]\n",
      "   ----- ---------------------------------- 1/7 [pillow]\n",
      "   ----------- ---------------------------- 2/7 [kiwisolver]\n",
      "   ----------------- ---------------------- 3/7 [fonttools]\n",
      "   ----------------- ---------------------- 3/7 [fonttools]\n",
      "   ----------------- ---------------------- 3/7 [fonttools]\n",
      "   ----------------- ---------------------- 3/7 [fonttools]\n",
      "   ----------------- ---------------------- 3/7 [fonttools]\n",
      "   ----------------- ---------------------- 3/7 [fonttools]\n",
      "   ----------------- ---------------------- 3/7 [fonttools]\n",
      "   ----------------- ---------------------- 3/7 [fonttools]\n",
      "   ----------------- ---------------------- 3/7 [fonttools]\n",
      "   ----------------- ---------------------- 3/7 [fonttools]\n",
      "   ----------------- ---------------------- 3/7 [fonttools]\n",
      "   ----------------- ---------------------- 3/7 [fonttools]\n",
      "   ----------------- ---------------------- 3/7 [fonttools]\n",
      "   ----------------- ---------------------- 3/7 [fonttools]\n",
      "   ----------------- ---------------------- 3/7 [fonttools]\n",
      "   ----------------- ---------------------- 3/7 [fonttools]\n",
      "   ----------------- ---------------------- 3/7 [fonttools]\n",
      "   ----------------- ---------------------- 3/7 [fonttools]\n",
      "   ----------------- ---------------------- 3/7 [fonttools]\n",
      "   ----------------- ---------------------- 3/7 [fonttools]\n",
      "   ----------------- ---------------------- 3/7 [fonttools]\n",
      "   ----------------- ---------------------- 3/7 [fonttools]\n",
      "   ----------------- ---------------------- 3/7 [fonttools]\n",
      "   ----------------- ---------------------- 3/7 [fonttools]\n",
      "   ----------------- ---------------------- 3/7 [fonttools]\n",
      "   ----------------- ---------------------- 3/7 [fonttools]\n",
      "   ----------------- ---------------------- 3/7 [fonttools]\n",
      "   ----------------- ---------------------- 3/7 [fonttools]\n",
      "   ----------------- ---------------------- 3/7 [fonttools]\n",
      "   ----------------- ---------------------- 3/7 [fonttools]\n",
      "   ----------------- ---------------------- 3/7 [fonttools]\n",
      "   ----------------- ---------------------- 3/7 [fonttools]\n",
      "   ----------------- ---------------------- 3/7 [fonttools]\n",
      "   ----------------- ---------------------- 3/7 [fonttools]\n",
      "   ----------------- ---------------------- 3/7 [fonttools]\n",
      "   ----------------- ---------------------- 3/7 [fonttools]\n",
      "   ----------------- ---------------------- 3/7 [fonttools]\n",
      "   ----------------- ---------------------- 3/7 [fonttools]\n",
      "   ----------------- ---------------------- 3/7 [fonttools]\n",
      "   ----------------- ---------------------- 3/7 [fonttools]\n",
      "   ----------------- ---------------------- 3/7 [fonttools]\n",
      "   ----------------- ---------------------- 3/7 [fonttools]\n",
      "   ----------------- ---------------------- 3/7 [fonttools]\n",
      "   ----------------- ---------------------- 3/7 [fonttools]\n",
      "   ----------------- ---------------------- 3/7 [fonttools]\n",
      "   ----------------- ---------------------- 3/7 [fonttools]\n",
      "   ----------------- ---------------------- 3/7 [fonttools]\n",
      "   ----------------- ---------------------- 3/7 [fonttools]\n",
      "   ----------------- ---------------------- 3/7 [fonttools]\n",
      "   ----------------- ---------------------- 3/7 [fonttools]\n",
      "   ----------------- ---------------------- 3/7 [fonttools]\n",
      "   ----------------- ---------------------- 3/7 [fonttools]\n",
      "   ----------------- ---------------------- 3/7 [fonttools]\n",
      "   ----------------- ---------------------- 3/7 [fonttools]\n",
      "   ----------------- ---------------------- 3/7 [fonttools]\n",
      "   ----------------- ---------------------- 3/7 [fonttools]\n",
      "   ----------------- ---------------------- 3/7 [fonttools]\n",
      "   ----------------- ---------------------- 3/7 [fonttools]\n",
      "   ----------------- ---------------------- 3/7 [fonttools]\n",
      "   ----------------- ---------------------- 3/7 [fonttools]\n",
      "   ----------------- ---------------------- 3/7 [fonttools]\n",
      "   ----------------- ---------------------- 3/7 [fonttools]\n",
      "   ----------------- ---------------------- 3/7 [fonttools]\n",
      "   ----------------- ---------------------- 3/7 [fonttools]\n",
      "   ----------------- ---------------------- 3/7 [fonttools]\n",
      "   ----------------- ---------------------- 3/7 [fonttools]\n",
      "   ----------------- ---------------------- 3/7 [fonttools]\n",
      "   ----------------- ---------------------- 3/7 [fonttools]\n",
      "   ----------------- ---------------------- 3/7 [fonttools]\n",
      "   ---------------------------- ----------- 5/7 [contourpy]\n",
      "   ---------------------------- ----------- 5/7 [contourpy]\n",
      "   ---------------------------- ----------- 5/7 [contourpy]\n",
      "   ---------------------------------- ----- 6/7 [matplotlib]\n",
      "   ---------------------------------- ----- 6/7 [matplotlib]\n",
      "   ---------------------------------- ----- 6/7 [matplotlib]\n",
      "   ---------------------------------- ----- 6/7 [matplotlib]\n",
      "   ---------------------------------- ----- 6/7 [matplotlib]\n",
      "   ---------------------------------- ----- 6/7 [matplotlib]\n",
      "   ---------------------------------- ----- 6/7 [matplotlib]\n",
      "   ---------------------------------- ----- 6/7 [matplotlib]\n",
      "   ---------------------------------- ----- 6/7 [matplotlib]\n",
      "   ---------------------------------- ----- 6/7 [matplotlib]\n",
      "   ---------------------------------- ----- 6/7 [matplotlib]\n",
      "   ---------------------------------- ----- 6/7 [matplotlib]\n",
      "   ---------------------------------- ----- 6/7 [matplotlib]\n",
      "   ---------------------------------- ----- 6/7 [matplotlib]\n",
      "   ---------------------------------- ----- 6/7 [matplotlib]\n",
      "   ---------------------------------- ----- 6/7 [matplotlib]\n",
      "   ---------------------------------- ----- 6/7 [matplotlib]\n",
      "   ---------------------------------- ----- 6/7 [matplotlib]\n",
      "   ---------------------------------- ----- 6/7 [matplotlib]\n",
      "   ---------------------------------- ----- 6/7 [matplotlib]\n",
      "   ---------------------------------- ----- 6/7 [matplotlib]\n",
      "   ---------------------------------- ----- 6/7 [matplotlib]\n",
      "   ---------------------------------- ----- 6/7 [matplotlib]\n",
      "   ---------------------------------- ----- 6/7 [matplotlib]\n",
      "   ---------------------------------- ----- 6/7 [matplotlib]\n",
      "   ---------------------------------- ----- 6/7 [matplotlib]\n",
      "   ---------------------------------- ----- 6/7 [matplotlib]\n",
      "   ---------------------------------- ----- 6/7 [matplotlib]\n",
      "   ---------------------------------- ----- 6/7 [matplotlib]\n",
      "   ---------------------------------- ----- 6/7 [matplotlib]\n",
      "   ---------------------------------- ----- 6/7 [matplotlib]\n",
      "   ---------------------------------- ----- 6/7 [matplotlib]\n",
      "   ---------------------------------- ----- 6/7 [matplotlib]\n",
      "   ---------------------------------- ----- 6/7 [matplotlib]\n",
      "   ---------------------------------- ----- 6/7 [matplotlib]\n",
      "   ---------------------------------- ----- 6/7 [matplotlib]\n",
      "   ---------------------------------- ----- 6/7 [matplotlib]\n",
      "   ---------------------------------- ----- 6/7 [matplotlib]\n",
      "   ---------------------------------- ----- 6/7 [matplotlib]\n",
      "   ---------------------------------- ----- 6/7 [matplotlib]\n",
      "   ---------------------------------- ----- 6/7 [matplotlib]\n",
      "   ---------------------------------- ----- 6/7 [matplotlib]\n",
      "   ---------------------------------- ----- 6/7 [matplotlib]\n",
      "   ---------------------------------- ----- 6/7 [matplotlib]\n",
      "   ---------------------------------- ----- 6/7 [matplotlib]\n",
      "   ---------------------------------- ----- 6/7 [matplotlib]\n",
      "   ---------------------------------- ----- 6/7 [matplotlib]\n",
      "   ---------------------------------- ----- 6/7 [matplotlib]\n",
      "   ---------------------------------- ----- 6/7 [matplotlib]\n",
      "   ---------------------------------- ----- 6/7 [matplotlib]\n",
      "   ---------------------------------- ----- 6/7 [matplotlib]\n",
      "   ---------------------------------- ----- 6/7 [matplotlib]\n",
      "   ---------------------------------- ----- 6/7 [matplotlib]\n",
      "   ---------------------------------- ----- 6/7 [matplotlib]\n",
      "   ---------------------------------- ----- 6/7 [matplotlib]\n",
      "   ---------------------------------- ----- 6/7 [matplotlib]\n",
      "   ---------------------------------- ----- 6/7 [matplotlib]\n",
      "   ---------------------------------- ----- 6/7 [matplotlib]\n",
      "   ---------------------------------- ----- 6/7 [matplotlib]\n",
      "   ---------------------------------- ----- 6/7 [matplotlib]\n",
      "   ---------------------------------- ----- 6/7 [matplotlib]\n",
      "   ---------------------------------- ----- 6/7 [matplotlib]\n",
      "   ---------------------------------- ----- 6/7 [matplotlib]\n",
      "   ---------------------------------- ----- 6/7 [matplotlib]\n",
      "   ---------------------------------- ----- 6/7 [matplotlib]\n",
      "   ---------------------------------- ----- 6/7 [matplotlib]\n",
      "   ---------------------------------- ----- 6/7 [matplotlib]\n",
      "   ---------------------------------- ----- 6/7 [matplotlib]\n",
      "   ---------------------------------- ----- 6/7 [matplotlib]\n",
      "   ---------------------------------------- 7/7 [matplotlib]\n",
      "\n",
      "Successfully installed contourpy-1.3.3 cycler-0.12.1 fonttools-4.59.0 kiwisolver-1.4.8 matplotlib-3.10.5 pillow-11.3.0 pyparsing-3.2.3\n",
      "Note: you may need to restart the kernel to use updated packages.\n"
     ]
    },
    {
     "name": "stderr",
     "output_type": "stream",
     "text": [
      "  WARNING: The scripts fonttools.exe, pyftmerge.exe, pyftsubset.exe and ttx.exe are installed in 'c:\\Users\\amnrn\\AppData\\Local\\Programs\\Python\\Python313\\Scripts' which is not on PATH.\n",
      "  Consider adding this directory to PATH or, if you prefer to suppress this warning, use --no-warn-script-location.\n",
      "\n",
      "[notice] A new release of pip is available: 25.1.1 -> 25.2\n",
      "[notice] To update, run: python.exe -m pip install --upgrade pip\n"
     ]
    }
   ],
   "source": [
    "pip install matplotlib"
   ]
  },
  {
   "cell_type": "code",
   "execution_count": null,
   "id": "64ef8edb",
   "metadata": {
    "vscode": {
     "languageId": "powershell"
    }
   },
   "outputs": [],
   "source": [
    "import matplotlib"
   ]
  },
  {
   "cell_type": "code",
   "execution_count": null,
   "id": "ad920aee",
   "metadata": {
    "vscode": {
     "languageId": "powershell"
    }
   },
   "outputs": [
    {
     "name": "stdout",
     "output_type": "stream",
     "text": [
      "-1 7\n",
      "7 -1\n",
      "2\n"
     ]
    }
   ],
   "source": [
    "arr = [1,-1,7,5]\n",
    "\n",
    "target = 6\n",
    "count = 0\n",
    "\n",
    "for i in range(len(arr)-1):\n",
    "    for j in range(len(arr)-1):\n",
    "        if arr[i] + arr[j] == target:\n",
    "            count+=1\n",
    "            print(arr[i],arr[j])\n",
    "print (count)"
   ]
  },
  {
   "cell_type": "code",
   "execution_count": 15,
   "id": "fc77b35a",
   "metadata": {
    "vscode": {
     "languageId": "powershell"
    }
   },
   "outputs": [
    {
     "name": "stdout",
     "output_type": "stream",
     "text": [
      "2423560216139476311\n",
      "6746389594645788908\n",
      "190323550828438979\n"
     ]
    }
   ],
   "source": [
    "\n",
    "list = [\"cheri\",\"pinky\",\"tom\"]\n",
    "for i in list:\n",
    "    print(hash(i))"
   ]
  },
  {
   "cell_type": "code",
   "execution_count": null,
   "id": "08285c46",
   "metadata": {
    "vscode": {
     "languageId": "powershell"
    }
   },
   "outputs": [],
   "source": [
    "# Hash set - When we apply hash in set concept\n",
    "\n",
    "# Hash map - When we apply hash in dictionary concept\n",
    "\n",
    "# counter, dict, defaultdict\n",
    "\n"
   ]
  },
  {
   "cell_type": "code",
   "execution_count": null,
   "id": "344a7be5",
   "metadata": {
    "vscode": {
     "languageId": "powershell"
    }
   },
   "outputs": [],
   "source": [
    "# Take a input (ex.Good Morning). Need to count the characters.\n",
    "\n"
   ]
  },
  {
   "cell_type": "code",
   "execution_count": 16,
   "id": "d5e76e23",
   "metadata": {
    "vscode": {
     "languageId": "powershell"
    }
   },
   "outputs": [
    {
     "name": "stdout",
     "output_type": "stream",
     "text": [
      "6260461647926153360\n",
      "3543136946445039942\n"
     ]
    }
   ],
   "source": [
    "person = {\"name\":\"Avani\",\"age\":40}\n",
    "print(hash(\"name\"))\n",
    "print(hash(\"age\"))  "
   ]
  },
  {
   "cell_type": "code",
   "execution_count": null,
   "id": "a8216aba",
   "metadata": {
    "vscode": {
     "languageId": "powershell"
    }
   },
   "outputs": [],
   "source": [
    "# This hash value will help to store and we can find it \n",
    "# Hashable - It can be used as dict key or set element"
   ]
  },
  {
   "cell_type": "code",
   "execution_count": 17,
   "id": "22abafe5",
   "metadata": {
    "vscode": {
     "languageId": "powershell"
    }
   },
   "outputs": [
    {
     "name": "stdout",
     "output_type": "stream",
     "text": [
      "riswan\n"
     ]
    }
   ],
   "source": [
    "# Custom Class using Hash and eq function\n",
    "\n",
    "class student():\n",
    "    def __init__(self,roll):\n",
    "        self.roll = roll\n",
    "    def __hash__(self):\n",
    "        return hash(self.roll)\n",
    "    def __eq__(self,other):\n",
    "        return self.roll == other.roll\n",
    "s1 = student(101)\n",
    "s2 = student(101)\n",
    "\n",
    "d = {}\n",
    "d[s1] = \"riswan\"\n",
    "print(d[s2])"
   ]
  },
  {
   "cell_type": "code",
   "execution_count": 11,
   "id": "d9861873",
   "metadata": {
    "vscode": {
     "languageId": "powershell"
    }
   },
   "outputs": [
    {
     "name": "stdout",
     "output_type": "stream",
     "text": [
      "-3376729686246313411\n",
      "5022974535972406951\n"
     ]
    }
   ],
   "source": [
    "# Hash Collision - Two different objects may return\n",
    "# The same hash\n",
    "\n",
    "print(hash(\"Aa\"))\n",
    "print(hash(\"Bb\"))"
   ]
  },
  {
   "cell_type": "code",
   "execution_count": 20,
   "id": "c402c857",
   "metadata": {
    "vscode": {
     "languageId": "powershell"
    }
   },
   "outputs": [
    {
     "name": "stdout",
     "output_type": "stream",
     "text": [
      "{'a', 's', 'k', 'h', ' ', 'o', 'l', 'e'}\n"
     ]
    }
   ],
   "source": [
    "str = \"hello akash\"\n",
    "unique_chars = __builtins__.set()\n",
    "for i in str:\n",
    "    if i not in unique_chars:\n",
    "        unique_chars.add(i)\n",
    "print(unique_chars)"
   ]
  },
  {
   "cell_type": "code",
   "execution_count": null,
   "id": "605d7ff2",
   "metadata": {
    "vscode": {
     "languageId": "powershell"
    }
   },
   "outputs": [],
   "source": [
    "a = \"The cat sat on the mat\"\n",
    "b = \"The dog sat on the fog\"\n",
    "list = []\n",
    "s_a = a.split()\n",
    "s_b = b.split()\n",
    "\n",
    "for i in s_a:\n",
    "    if i in s_b:\n",
    "        list.append(i)\n",
    "print(list)\n",
    "\n",
    "\n",
    "# By Using Set\n",
    "\n",
    "set1 = set(s_a)\n",
    "set2 = set(s_b)\n",
    "\n",
    "list1 = []\n",
    "\n",
    "for i in set1:\n",
    "    if i in set2:\n",
    "        list1.append(i)\n",
    "print(list1)"
   ]
  },
  {
   "cell_type": "code",
   "execution_count": null,
   "id": "40b052c4",
   "metadata": {
    "vscode": {
     "languageId": "powershell"
    }
   },
   "outputs": [],
   "source": [
    "def findDuplicates(nums):\n",
    "    freq = {}\n",
    "    result = []\n",
    "\n",
    "    for num in nums:\n",
    "        freq[num] = freq.get(num, 0) + 1\n",
    "\n",
    "    for num, count in freq.items():\n",
    "        if count == 2:\n",
    "            result.append(num)\n",
    "\n",
    "    return result\n",
    "\n",
    "\n",
    "nums = [4, 3, 2, 7, 8, 2, 3, 1]\n",
    "print(findDuplicates(nums)) "
   ]
  },
  {
   "cell_type": "code",
   "execution_count": null,
   "id": "da9742cf",
   "metadata": {
    "vscode": {
     "languageId": "powershell"
    }
   },
   "outputs": [],
   "source": [
    "nums1 = [4,9,5]\n",
    "nums2 = [9,4,8,4]\n",
    "list = []\n",
    "for i in nums1:\n",
    "    if i in nums2:\n",
    "        list.append(i)\n",
    "print(list)"
   ]
  }
 ],
 "metadata": {
  "kernelspec": {
   "display_name": "Python 3",
   "language": "python",
   "name": "python3"
  },
  "language_info": {
   "codemirror_mode": {
    "name": "ipython",
    "version": 3
   },
   "file_extension": ".py",
   "mimetype": "text/x-python",
   "name": "python",
   "nbconvert_exporter": "python",
   "pygments_lexer": "ipython3",
   "version": "3.13.5"
  }
 },
 "nbformat": 4,
 "nbformat_minor": 5
}
